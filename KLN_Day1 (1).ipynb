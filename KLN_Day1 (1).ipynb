{
  "nbformat": 4,
  "nbformat_minor": 0,
  "metadata": {
    "colab": {
      "provenance": []
    },
    "kernelspec": {
      "name": "python3",
      "display_name": "Python 3"
    },
    "language_info": {
      "name": "python"
    }
  },
  "cells": [
    {
      "cell_type": "code",
      "source": [
        "# Linear Regression Example: Salary vs Experience\n",
        "# -----------------------------------------------\n",
        "# This program predicts the salary of an employee based on years of experience\n",
        "# using a simple linear regression model.\n",
        "\n",
        "# Step 1: Import the necessary libraries\n",
        "import numpy as np\n",
        "import pandas as pd\n",
        "import matplotlib.pyplot as plt\n",
        "from sklearn.linear_model import LinearRegression\n",
        "\n",
        "# Step 2: Create a simple dataset\n",
        "# Suppose we collected data of employees — their experience (in years) and salary (in ₹)\n",
        "data = {\n",
        "    'Experience': [1, 2, 3, 4, 5, 6, 7, 8, 9, 10],\n",
        "    'Salary': [25000, 30000, 35000, 40000, 45000, 50000, 60000, 65000, 70000, 75000]\n",
        "}\n",
        "\n",
        "# Convert the dictionary into a DataFrame for easy handling\n",
        "df = pd.DataFrame(data)\n",
        "\n",
        "# Step 3: Separate the independent variable (X) and dependent variable (y)\n",
        "X = df[['Experience']]   # Feature (Years of experience)\n",
        "y = df['Salary']         # Target (Salary)\n",
        "\n",
        "# Step 4: Create a Linear Regression model\n",
        "model = LinearRegression()\n",
        "\n",
        "# Step 5: Train (fit) the model using our data\n",
        "model.fit(X, y)\n",
        "\n",
        "# Step 6: Predict the salary for a given experience\n",
        "years = float(input(\"Enter years of experience: \"))\n",
        "predicted_salary = model.predict([[years]])\n",
        "\n",
        "print(f\"Predicted Salary for {years} years of experience: ₹{predicted_salary[0]:.2f}\")\n",
        "\n",
        "# Step 7: Visualize the data and the regression line\n",
        "plt.scatter(X, y, color='green', label='Actual Data')\n",
        "plt.plot(X, model.predict(X), color='red', label='Regression Line')\n",
        "plt.xlabel('Experience (Years)')\n",
        "plt.ylabel('Salary (₹)')\n",
        "plt.title('Salary vs Experience')\n",
        "plt.legend()\n",
        "plt.show()\n"
      ],
      "metadata": {
        "id": "1Ft6Yh3eEOiK"
      },
      "execution_count": null,
      "outputs": []
    },
    {
      "cell_type": "code",
      "source": [],
      "metadata": {
        "id": "pfedY5S-trJj"
      },
      "execution_count": null,
      "outputs": []
    },
    {
      "cell_type": "code",
      "source": [
        "import kagglehub\n",
        "\n",
        "# Download latest version\n",
        "path = kagglehub.dataset_download(\"mohithsairamreddy/salary-data\")\n",
        "\n",
        "print(\"Path to dataset files:\", path)"
      ],
      "metadata": {
        "id": "xzx7APf8MFaK"
      },
      "execution_count": null,
      "outputs": []
    },
    {
      "cell_type": "code",
      "source": [],
      "metadata": {
        "id": "RCbyIUYBMHMC"
      },
      "execution_count": null,
      "outputs": []
    },
    {
      "cell_type": "code",
      "source": [
        "# Linear Regression: Salary vs Experience (Kaggle Dataset)\n",
        "# --------------------------------------------------------\n",
        "# This program reads the Salary_Data.csv file from Kaggle,\n",
        "# trains a simple linear regression model, and predicts salary based on experience.\n",
        "\n",
        "# Step 1: Import required libraries\n",
        "import pandas as pd\n",
        "import matplotlib.pyplot as plt\n",
        "from sklearn.model_selection import train_test_split\n",
        "from sklearn.linear_model import LinearRegression\n",
        "\n",
        "# Step 2: Load the dataset\n",
        "# Make sure the Salary_Data.csv file is in the same folder as this script\n",
        "# You can download it from: https://www.kaggle.com/datasets/krishnajaiswal27/salary-data-simple-linear-regression\n",
        "data = pd.read_csv('salary_data.csv')\n",
        "\n",
        "# Step 3: Explore the dataset\n",
        "print(\"First 5 rows of the dataset:\")\n",
        "print(data.head())\n",
        "print(\"\\nDataset Info:\")\n",
        "print(data.info())\n",
        "\n",
        "# Step 4: Separate features (X) and target (y)\n",
        "X = data[['YearsExperience']]  # Independent variable\n",
        "y = data['Salary']             # Dependent variable\n",
        "\n",
        "# Step 5: Split data into training and testing sets (80% train, 20% test)\n",
        "X_train, X_test, y_train, y_test = train_test_split(X, y, test_size=0.2, random_state=42)\n",
        "\n",
        "# Step 6: Create and train the model\n",
        "model = LinearRegression()\n",
        "model.fit(X_train, y_train)\n",
        "\n",
        "# Step 7: Predict salaries for the test set\n",
        "y_pred = model.predict(X_test)\n",
        "\n",
        "# Step 8: Compare actual vs predicted values\n",
        "comparison = pd.DataFrame({'Actual': y_test, 'Predicted': y_pred})\n",
        "print(\"\\nActual vs Predicted Salary:\")\n",
        "print(comparison)\n",
        "\n",
        "# Step 9: Visualize training results\n",
        "plt.scatter(X_train, y_train, color='blue', label='Training Data')\n",
        "plt.plot(X_train, model.predict(X_train), color='red', label='Regression Line')\n",
        "plt.title('Salary vs Experience (Training Set)')\n",
        "plt.xlabel('Years of Experience')\n",
        "plt.ylabel('Salary')\n",
        "plt.legend()\n",
        "plt.show()\n",
        "\n",
        "# Step 10: Visualize testing results\n",
        "plt.scatter(X_test, y_test, color='green', label='Test Data')\n",
        "plt.plot(X_train, model.predict(X_train), color='red', label='Regression Line')\n",
        "plt.title('Salary vs Experience (Test Set)')\n",
        "plt.xlabel('Years of Experience')\n",
        "plt.ylabel('Salary')\n",
        "plt.legend()\n",
        "plt.show()\n",
        "\n",
        "# Step 11: Predict for a custom experience value\n",
        "exp = float(input(\"\\nEnter years of experience to predict salary: \"))\n",
        "predicted_salary = model.predict([[exp]])\n",
        "print(f\"Predicted Salary for {exp} years of experience: ₹{predicted_salary[0]:.2f}\")\n"
      ],
      "metadata": {
        "id": "Phgf3WkELtyj"
      },
      "execution_count": null,
      "outputs": []
    },
    {
      "cell_type": "code",
      "source": [],
      "metadata": {
        "id": "gAVH9X6mzAH9"
      },
      "execution_count": null,
      "outputs": []
    },
    {
      "cell_type": "code",
      "source": [
        "# Linear Regression: Salary vs Experience (Kaggle Dataset)\n",
        "# --------------------------------------------------------\n",
        "# This program reads the Salary_Data.csv file from Kaggle,\n",
        "# trains a simple linear regression model, and predicts salary based on experience.\n",
        "\n",
        "# Step 1: Import required libraries\n",
        "import pandas as pd\n",
        "import matplotlib.pyplot as plt\n",
        "from sklearn.model_selection import train_test_split\n",
        "from sklearn.linear_model import LinearRegression\n",
        "\n",
        "# Step 2: Load the dataset\n",
        "# Make sure the Salary_Data.csv file is in the same folder as this script\n",
        "# You can download it from: https://www.kaggle.com/datasets/krishnajaiswal27/salary-data-simple-linear-regression\n",
        "data = pd.read_csv('salary_data.csv')\n",
        "\n",
        "# Step 3: Explore the dataset\n",
        "print(\"First 5 rows of the dataset:\")\n",
        "print(data.head())\n",
        "print(\"\\nDataset Info:\")\n",
        "print(data.info())\n",
        "\n",
        "# Step 4: Separate features (X) and target (y)\n",
        "X = data[['YearsExperience']]  # Independent variable\n",
        "y = data['Salary']             # Dependent variable\n",
        "\n",
        "# Step 5: Split data into training and testing sets (80% train, 20% test)\n",
        "X_train, X_test, y_train, y_test = train_test_split(X, y, test_size=0.2, random_state=42)\n",
        "\n",
        "# Step 6: Create and train the model\n",
        "model = LinearRegression()\n",
        "model.fit(X_train, y_train)\n",
        "\n",
        "# Step 7: Predict salaries for the test set\n",
        "y_pred = model.predict(X_test)\n",
        "\n",
        "# Step 8: Compare actual vs predicted values\n",
        "comparison = pd.DataFrame({'Actual': y_test, 'Predicted': y_pred})\n",
        "print(\"\\nActual vs Predicted Salary:\")\n",
        "print(comparison)\n",
        "\n",
        "# Step 9: Visualize training results\n",
        "plt.scatter(X_train, y_train, color='blue', label='Training Data')\n",
        "plt.plot(X_train, model.predict(X_train), color='red', label='Regression Line')\n",
        "plt.title('Salary vs Experience (Training Set)')\n",
        "plt.xlabel('Years of Experience')\n",
        "plt.ylabel('Salary')\n",
        "plt.legend()\n",
        "plt.show()\n",
        "\n",
        "# Step 10: Visualize testing results\n",
        "plt.scatter(X_test, y_test, color='green', label='Test Data')\n",
        "plt.plot(X_train, model.predict(X_train), color='red', label='Regression Line')\n",
        "plt.title('Salary vs Experience (Test Set)')\n",
        "plt.xlabel('Years of Experience')\n",
        "plt.ylabel('Salary')\n",
        "plt.legend()\n",
        "plt.show()\n",
        "\n",
        "# Step 11: Predict for a custom experience value\n",
        "exp = float(input(\"\\nEnter years of experience to predict salary: \"))\n",
        "predicted_salary = model.predict([[exp]])\n",
        "print(f\"Predicted Salary for {exp} years of experience: ₹{predicted_salary[0]:.2f}\")\n"
      ],
      "metadata": {
        "colab": {
          "base_uri": "https://localhost:8080/",
          "height": 1000
        },
        "id": "a9QiWp3qzA2A",
        "outputId": "139b9a38-cc73-4345-da88-7cdc3cc4ff0b"
      },
      "execution_count": null,
      "outputs": [
        {
          "output_type": "stream",
          "name": "stdout",
          "text": [
            "First 5 rows of the dataset:\n",
            "   YearsExperience   Salary\n",
            "0              1.1  39343.0\n",
            "1              1.3  46205.0\n",
            "2              1.5  37731.0\n",
            "3              2.0  43525.0\n",
            "4              2.2  39891.0\n",
            "\n",
            "Dataset Info:\n",
            "<class 'pandas.core.frame.DataFrame'>\n",
            "RangeIndex: 30 entries, 0 to 29\n",
            "Data columns (total 2 columns):\n",
            " #   Column           Non-Null Count  Dtype  \n",
            "---  ------           --------------  -----  \n",
            " 0   YearsExperience  30 non-null     float64\n",
            " 1   Salary           30 non-null     float64\n",
            "dtypes: float64(2)\n",
            "memory usage: 612.0 bytes\n",
            "None\n",
            "\n",
            "Actual vs Predicted Salary:\n",
            "      Actual      Predicted\n",
            "27  112635.0  115790.210113\n",
            "15   67938.0   71498.278095\n",
            "23  113812.0  102596.868661\n",
            "17   83088.0   75267.804224\n",
            "8    64445.0   55477.792045\n",
            "9    57189.0   60189.699707\n"
          ]
        },
        {
          "output_type": "display_data",
          "data": {
            "text/plain": [
              "<Figure size 640x480 with 1 Axes>"
            ],
            "image/png": "[encoded data removed]"
          },
          "metadata": {}
        },
        {
          "output_type": "display_data",
          "data": {
            "text/plain": [
              "<Figure size 640x480 with 1 Axes>"
            ],
            "image/png": "[encoded data removed]"
          },
          "metadata": {}
        },
        {
          "output_type": "error",
          "ename": "KeyboardInterrupt",
          "evalue": "Interrupted by user",
          "traceback": [
            "\u001b[0;31m---------------------------------------------------------------------------\u001b[0m",
            "\u001b[0;31mKeyboardInterrupt\u001b[0m                         Traceback (most recent call last)",
            "\u001b[0;32m/tmp/ipython-input-1403163612.py\u001b[0m in \u001b[0;36m<cell line: 0>\u001b[0;34m()\u001b[0m\n\u001b[1;32m     59\u001b[0m \u001b[0;34m\u001b[0m\u001b[0m\n\u001b[1;32m     60\u001b[0m \u001b[0;31m# Step 11: Predict for a custom experience value\u001b[0m\u001b[0;34m\u001b[0m\u001b[0;34m\u001b[0m\u001b[0m\n\u001b[0;32m---> 61\u001b[0;31m \u001b[0mexp\u001b[0m \u001b[0;34m=\u001b[0m \u001b[0mfloat\u001b[0m\u001b[0;34m(\u001b[0m\u001b[0minput\u001b[0m\u001b[0;34m(\u001b[0m\u001b[0;34m\"\\nEnter years of experience to predict salary: \"\u001b[0m\u001b[0;34m)\u001b[0m\u001b[0;34m)\u001b[0m\u001b[0;34m\u001b[0m\u001b[0;34m\u001b[0m\u001b[0m\n\u001b[0m\u001b[1;32m     62\u001b[0m \u001b[0mpredicted_salary\u001b[0m \u001b[0;34m=\u001b[0m \u001b[0mmodel\u001b[0m\u001b[0;34m.\u001b[0m\u001b[0mpredict\u001b[0m\u001b[0;34m(\u001b[0m\u001b[0;34m[\u001b[0m\u001b[0;34m[\u001b[0m\u001b[0mexp\u001b[0m\u001b[0;34m]\u001b[0m\u001b[0;34m]\u001b[0m\u001b[0;34m)\u001b[0m\u001b[0;34m\u001b[0m\u001b[0;34m\u001b[0m\u001b[0m\n\u001b[1;32m     63\u001b[0m \u001b[0mprint\u001b[0m\u001b[0;34m(\u001b[0m\u001b[0;34mf\"Predicted Salary for {exp} years of experience: ₹{predicted_salary[0]:.2f}\"\u001b[0m\u001b[0;34m)\u001b[0m\u001b[0;34m\u001b[0m\u001b[0;34m\u001b[0m\u001b[0m\n",
            "\u001b[0;32m/usr/local/lib/python3.12/dist-packages/ipykernel/kernelbase.py\u001b[0m in \u001b[0;36mraw_input\u001b[0;34m(self, prompt)\u001b[0m\n\u001b[1;32m   1175\u001b[0m                 \u001b[0;34m\"raw_input was called, but this frontend does not support input requests.\"\u001b[0m\u001b[0;34m\u001b[0m\u001b[0;34m\u001b[0m\u001b[0m\n\u001b[1;32m   1176\u001b[0m             )\n\u001b[0;32m-> 1177\u001b[0;31m         return self._input_request(\n\u001b[0m\u001b[1;32m   1178\u001b[0m             \u001b[0mstr\u001b[0m\u001b[0;34m(\u001b[0m\u001b[0mprompt\u001b[0m\u001b[0;34m)\u001b[0m\u001b[0;34m,\u001b[0m\u001b[0;34m\u001b[0m\u001b[0;34m\u001b[0m\u001b[0m\n\u001b[1;32m   1179\u001b[0m             \u001b[0mself\u001b[0m\u001b[0;34m.\u001b[0m\u001b[0m_parent_ident\u001b[0m\u001b[0;34m[\u001b[0m\u001b[0;34m\"shell\"\u001b[0m\u001b[0;34m]\u001b[0m\u001b[0;34m,\u001b[0m\u001b[0;34m\u001b[0m\u001b[0;34m\u001b[0m\u001b[0m\n",
            "\u001b[0;32m/usr/local/lib/python3.12/dist-packages/ipykernel/kernelbase.py\u001b[0m in \u001b[0;36m_input_request\u001b[0;34m(self, prompt, ident, parent, password)\u001b[0m\n\u001b[1;32m   1217\u001b[0m             \u001b[0;32mexcept\u001b[0m \u001b[0mKeyboardInterrupt\u001b[0m\u001b[0;34m:\u001b[0m\u001b[0;34m\u001b[0m\u001b[0;34m\u001b[0m\u001b[0m\n\u001b[1;32m   1218\u001b[0m                 \u001b[0;31m# re-raise KeyboardInterrupt, to truncate traceback\u001b[0m\u001b[0;34m\u001b[0m\u001b[0;34m\u001b[0m\u001b[0m\n\u001b[0;32m-> 1219\u001b[0;31m                 \u001b[0;32mraise\u001b[0m \u001b[0mKeyboardInterrupt\u001b[0m\u001b[0;34m(\u001b[0m\u001b[0;34m\"Interrupted by user\"\u001b[0m\u001b[0;34m)\u001b[0m \u001b[0;32mfrom\u001b[0m \u001b[0;32mNone\u001b[0m\u001b[0;34m\u001b[0m\u001b[0;34m\u001b[0m\u001b[0m\n\u001b[0m\u001b[1;32m   1220\u001b[0m             \u001b[0;32mexcept\u001b[0m \u001b[0mException\u001b[0m\u001b[0;34m:\u001b[0m\u001b[0;34m\u001b[0m\u001b[0;34m\u001b[0m\u001b[0m\n\u001b[1;32m   1221\u001b[0m                 \u001b[0mself\u001b[0m\u001b[0;34m.\u001b[0m\u001b[0mlog\u001b[0m\u001b[0;34m.\u001b[0m\u001b[0mwarning\u001b[0m\u001b[0;34m(\u001b[0m\u001b[0;34m\"Invalid Message:\"\u001b[0m\u001b[0;34m,\u001b[0m \u001b[0mexc_info\u001b[0m\u001b[0;34m=\u001b[0m\u001b[0;32mTrue\u001b[0m\u001b[0;34m)\u001b[0m\u001b[0;34m\u001b[0m\u001b[0;34m\u001b[0m\u001b[0m\n",
            "\u001b[0;31mKeyboardInterrupt\u001b[0m: Interrupted by user"
          ]
        }
      ]
    },
    {
      "cell_type": "code",
      "execution_count": null,
      "metadata": {
        "id": "-54OIxlScbDu",
        "collapsed": true
      },
      "outputs": [],
      "source": [
        "# Lab 1: Simple ANN for Binary Classification\n",
        "\n",
        "import tensorflow as tf\n",
        "from tensorflow.keras.models import Sequential\n",
        "from tensorflow.keras.layers import Dense\n",
        "from sklearn.datasets import make_moons\n",
        "from sklearn.model_selection import train_test_split\n",
        "from sklearn.preprocessing import StandardScaler\n",
        "\n",
        "# 1. Generate synthetic binary dataset\n",
        "X, y = make_moons(n_samples=1000, noise=0.2, random_state=42)\n",
        "\n",
        "# 2. Split and scale\n",
        "X_train, X_test, y_train, y_test = train_test_split(X, y, test_size=0.2, random_state=42)\n",
        "scaler = StandardScaler()\n",
        "X_train = scaler.fit_transform(X_train)\n",
        "X_test = scaler.transform(X_test)\n",
        "\n",
        "# 3. Build model\n",
        "model = Sequential([\n",
        "    Dense(8, activation='relu', input_shape=(2,)),\n",
        "    Dense(4, activation='relu'),\n",
        "    Dense(1, activation='sigmoid')\n",
        "])\n",
        "\n",
        "# 4. Compile and train\n",
        "model.compile(optimizer='adam', loss='binary_crossentropy', metrics=['accuracy'])\n",
        "model.fit(X_train, y_train, epochs=20, validation_split=0.2, verbose=1)\n",
        "\n",
        "# 5. Evaluate\n",
        "loss, acc = model.evaluate(X_test, y_test)\n",
        "print(f\"Test Accuracy: {acc:.2f}\")\n"
      ]
    },
    {
      "cell_type": "code",
      "source": [
        "# Lab 2: ANN for Multiclass Classification (Fashion-MNIST)\n",
        "\n",
        "import tensorflow as tf\n",
        "from tensorflow.keras.models import Sequential\n",
        "from tensorflow.keras.layers import Dense, Flatten\n",
        "from tensorflow.keras.datasets import fashion_mnist\n",
        "\n",
        "# 1. Load data\n",
        "(X_train, y_train), (X_test, y_test) = fashion_mnist.load_data()\n",
        "\n",
        "# 2. Normalize\n",
        "X_train, X_test = X_train / 255.0, X_test / 255.0\n",
        "\n",
        "# 3. Build model\n",
        "model = Sequential([\n",
        "    Flatten(input_shape=(28, 28)),\n",
        "    Dense(128, activation='relu'),\n",
        "    Dense(64, activation='relu'),\n",
        "    Dense(10, activation='softmax')\n",
        "])\n",
        "\n",
        "# 4. Compile and train\n",
        "model.compile(optimizer='adam', loss='sparse_categorical_crossentropy', metrics=['accuracy'])\n",
        "model.fit(X_train, y_train, epochs=5, validation_split=0.2)\n",
        "\n",
        "# 5. Evaluate\n",
        "loss, acc = model.evaluate(X_test, y_test)\n",
        "print(f\"Test Accuracy: {acc:.2f}\")\n"
      ],
      "metadata": {
        "id": "Faxx45NJdmnm"
      },
      "execution_count": null,
      "outputs": []
    },
    {
      "cell_type": "code",
      "source": [
        "\n",
        "import sklearn.linear_model as lm\n",
        "help(lm)\n"
      ],
      "metadata": {
        "collapsed": true,
        "id": "ztRZcjZEcV9T"
      },
      "execution_count": null,
      "outputs": []
    },
    {
      "cell_type": "code",
      "source": [
        "import numpy as np\n",
        "import pandas as pd\n",
        "import matplotlib.pyplot as plt\n",
        "from sklearn.linear_model import LinearRegression\n",
        "\n",
        "# Step 1: Create dataset\n",
        "data = {\n",
        "    'Experience': [1, 2, 3, 4, 5, 6, 7, 8, 9, 10],\n",
        "    'Salary': [25000, 30000, 35000, 40000, 45000, 50000, 60000, 65000, 70000, 75000]\n",
        "}\n",
        "df = pd.DataFrame(data)\n",
        "print(df)"
      ],
      "metadata": {
        "id": "4dcXhKt7enMg"
      },
      "execution_count": null,
      "outputs": []
    },
    {
      "cell_type": "code",
      "source": [
        "import kagglehub\n",
        "\n",
        "# Download latest version\n",
        "path = kagglehub.dataset_download(\"ravitejakotharu/salary-datacsv\")\n",
        "\n",
        "print(\"Path to dataset files:\", path)"
      ],
      "metadata": {
        "id": "k5Tx-iUpts8Q"
      },
      "execution_count": null,
      "outputs": []
    },
    {
      "cell_type": "code",
      "source": [],
      "metadata": {
        "id": "VJh2Q3TyzG8E"
      },
      "execution_count": null,
      "outputs": []
    },
    {
      "cell_type": "code",
      "source": [
        "# Linear Regression: Salary vs Experience (Kaggle Dataset)\n",
        "# --------------------------------------------------------\n",
        "# This program reads the Salary_Data.csv file from Kaggle,\n",
        "# trains a simple linear regression model, and predicts salary based on experience.\n",
        "\n",
        "# Step 1: Import required libraries\n",
        "import pandas as pd\n",
        "import matplotlib.pyplot as plt\n",
        "from sklearn.model_selection import train_test_split\n",
        "from sklearn.linear_model import LinearRegression\n",
        "\n",
        "# Step 2: Load the dataset\n",
        "# Make sure the Salary_Data.csv file is in the same folder as this script\n",
        "# You can download it from: https://www.kaggle.com/datasets/krishnajaiswal27/salary-data-simple-linear-regression\n",
        "data = pd.read_csv('salary_data.csv')\n",
        "\n",
        "# Step 3: Explore the dataset\n",
        "print(\"First 5 rows of the dataset:\")\n",
        "print(data.head())\n",
        "print(\"\\nDataset Info:\")\n",
        "print(data.info())\n",
        "\n"
      ],
      "metadata": {
        "colab": {
          "base_uri": "https://localhost:8080/"
        },
        "outputId": "cee4f035-8ea6-469e-8df1-c88900e7151f",
        "id": "YaEZMMz2zNvw"
      },
      "execution_count": null,
      "outputs": [
        {
          "output_type": "stream",
          "name": "stdout",
          "text": [
            "First 5 rows of the dataset:\n",
            "   YearsExperience   Salary\n",
            "0              1.1  39343.0\n",
            "1              1.3  46205.0\n",
            "2              1.5  37731.0\n",
            "3              2.0  43525.0\n",
            "4              2.2  39891.0\n",
            "\n",
            "Dataset Info:\n",
            "<class 'pandas.core.frame.DataFrame'>\n",
            "RangeIndex: 30 entries, 0 to 29\n",
            "Data columns (total 2 columns):\n",
            " #   Column           Non-Null Count  Dtype  \n",
            "---  ------           --------------  -----  \n",
            " 0   YearsExperience  30 non-null     float64\n",
            " 1   Salary           30 non-null     float64\n",
            "dtypes: float64(2)\n",
            "memory usage: 612.0 bytes\n",
            "None\n"
          ]
        }
      ]
    }
  ]
}